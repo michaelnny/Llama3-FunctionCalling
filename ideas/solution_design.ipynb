{
 "cells": [
  {
   "cell_type": "code",
   "execution_count": 1,
   "metadata": {},
   "outputs": [],
   "source": [
    "# simple hack to support import module from parent directory\n",
    "import sys\n",
    "sys.path.append('../')\n",
    "\n",
    "from llama3.core.tokenizer import Tokenizer\n",
    "from llama3.core.prompt import serialize_function_metadata"
   ]
  },
  {
   "cell_type": "code",
   "execution_count": 2,
   "metadata": {},
   "outputs": [],
   "source": [
    "model_path = '/home/michael/models/Llama3/Llama-3-8B-Instruct/tokenizer.model'\n",
    "tokenizer = Tokenizer(model_path)"
   ]
  },
  {
   "cell_type": "code",
   "execution_count": 3,
   "metadata": {},
   "outputs": [],
   "source": [
    "tools = [\n",
    "    {\n",
    "        \"type\": \"function\",\n",
    "        \"function\": {\n",
    "            \"name\": \"get_current_weather\",\n",
    "            \"description\": \"Get the current weather in a given location\",\n",
    "            \"parameters\": {\n",
    "                \"type\": \"object\",\n",
    "                \"properties\": {\n",
    "                    \"location\": {\n",
    "                        \"type\": \"string\",\n",
    "                        \"description\": \"The city and state, e.g. San Francisco, CA\",\n",
    "                    },\n",
    "                    \"unit\": {\"type\": \"string\", \"enum\": [\"celsius\", \"fahrenheit\"]},\n",
    "                },\n",
    "                \"required\": [\"location\"],\n",
    "            },\n",
    "        },\n",
    "    },\n",
    "    {\n",
    "        'type': 'function',\n",
    "        'function': {\n",
    "            'name': 'rate_movie',\n",
    "            'description': \"Rate a movie based on user's review\",\n",
    "            'parameters': {\n",
    "                'type': 'object',\n",
    "                'properties': {'movie_title': {'type': 'string', 'description': 'The title of the movie'}, 'rating': {'type': 'number', 'description': 'The rating given by the user (1-10)'}, 'review': {'type': 'string', 'description': 'The review of the movie'}},\n",
    "                'required': ['movie_title', 'rating', 'review'],\n",
    "            },\n",
    "        },\n",
    "    },\n",
    "    {\n",
    "        'type': 'function',\n",
    "        'function': {\n",
    "            'name': 'search_books',\n",
    "            'description': 'Search for books based on title, author, or genre',\n",
    "            'parameters': {'type': 'object', 'properties': {'keyword': {'type': 'string', 'description': 'The keyword to search for in book title, author, or genre'}}, 'required': ['keyword']},\n",
    "        },\n",
    "    },\n",
    "    {\n",
    "        'type': 'function',\n",
    "        'function': {\n",
    "            'name': 'validate_email',\n",
    "            'description': 'Validate if an email address is valid',\n",
    "            'parameters': {'type': 'object', 'properties': {'email': {'type': 'string', 'format': 'email', 'description': 'The email address to validate'}}, 'required': ['email']},\n",
    "        },\n",
    "    },\n",
    "]"
   ]
  },
  {
   "cell_type": "code",
   "execution_count": 4,
   "metadata": {},
   "outputs": [
    {
     "name": "stdout",
     "output_type": "stream",
     "text": [
      "--------------------------------------------------------------------------------\n",
      "Number of tokens: 96\n",
      "\n",
      "Serialized Number of tokens: 51\n",
      "\n",
      "Serialized Function:\n",
      "// Get the current weather in a given location\n",
      "type get_current_weather = (_: {\n",
      "// The city and state, e.g. San Francisco, CA\n",
      "location: string,\n",
      "unit?: \"celsius\" | \"fahrenheit\",\n",
      "}) => any;\n",
      "\n",
      "--------------------------------------------------------------------------------\n",
      "Number of tokens: 120\n",
      "\n",
      "Serialized Number of tokens: 60\n",
      "\n",
      "Serialized Function:\n",
      "// Rate a movie based on user's review\n",
      "type rate_movie = (_: {\n",
      "// The title of the movie\n",
      "movie_title: string,\n",
      "// The rating given by the user (1-10)\n",
      "rating: number,\n",
      "// The review of the movie\n",
      "review: string,\n",
      "}) => any;\n",
      "\n",
      "--------------------------------------------------------------------------------\n",
      "Number of tokens: 79\n",
      "\n",
      "Serialized Number of tokens: 43\n",
      "\n",
      "Serialized Function:\n",
      "// Search for books based on title, author, or genre\n",
      "type search_books = (_: {\n",
      "// The keyword to search for in book title, author, or genre\n",
      "keyword: string,\n",
      "}) => any;\n",
      "\n",
      "--------------------------------------------------------------------------------\n",
      "Number of tokens: 73\n",
      "\n",
      "Serialized Number of tokens: 31\n",
      "\n",
      "Serialized Function:\n",
      "// Validate if an email address is valid\n",
      "type validate_email = (_: {\n",
      "// The email address to validate\n",
      "email: string,\n",
      "}) => any;\n",
      "\n"
     ]
    }
   ],
   "source": [
    "for func in tools:\n",
    "    tokens = tokenizer.encode(str(func), bos=False, eos=False)\n",
    "    optimized_str = serialize_function_metadata(func)\n",
    "    optimized_tokens = tokenizer.encode(optimized_str, bos=False, eos=False)\n",
    "    \n",
    "    print('-'*80)\n",
    "    print(f'Number of tokens: {len(tokens)}\\n')\n",
    "    print(f'Serialized Number of tokens: {len(optimized_tokens)}\\n')\n",
    "    print(f'Serialized Function:\\n{optimized_str}\\n')\n"
   ]
  },
  {
   "cell_type": "code",
   "execution_count": null,
   "metadata": {},
   "outputs": [],
   "source": []
  }
 ],
 "metadata": {
  "kernelspec": {
   "display_name": "ml",
   "language": "python",
   "name": "python3"
  },
  "language_info": {
   "codemirror_mode": {
    "name": "ipython",
    "version": 3
   },
   "file_extension": ".py",
   "mimetype": "text/x-python",
   "name": "python",
   "nbconvert_exporter": "python",
   "pygments_lexer": "ipython3",
   "version": "3.11.9"
  }
 },
 "nbformat": 4,
 "nbformat_minor": 2
}
