{
 "cells": [
  {
   "cell_type": "code",
   "execution_count": 1,
   "metadata": {},
   "outputs": [],
   "source": [
    "# simple hack to support import module from parent directory\n",
    "import sys\n",
    "sys.path.append('../')\n",
    "\n",
    "from llama3.core.tokenizer import Tokenizer, ChatFormat\n",
    "from llama3.core.prompt import decode_json_strings"
   ]
  },
  {
   "cell_type": "code",
   "execution_count": 2,
   "metadata": {},
   "outputs": [],
   "source": [
    "model_path = '/home/michael/models/Llama3/Llama-3-8B-Instruct/tokenizer.model'\n",
    "tokenizer = Tokenizer(model_path)\n",
    "\n",
    "formatter = ChatFormat(tokenizer)"
   ]
  },
  {
   "cell_type": "code",
   "execution_count": 3,
   "metadata": {},
   "outputs": [],
   "source": [
    "messages = [\n",
    "    {'role': 'user', 'content': \"What's the weather like in San Francisco, and Tokyo?\"},\n",
    "    {\n",
    "        \"role\": \"assistant\",\n",
    "        \"content\": [\n",
    "            {\"id\": \"call_m2ZQ4MpYJCfNJfZaNCD6oD7W\", \"function\": {\"arguments\": \"{\\\"location\\\": \\\"San Francisco, CA\\\"}\", \"name\": \"get_current_weather\"}, \"type\": \"function\"},\n",
    "            {\"id\": \"call_aQRCOIZo39gI0LZjtALls3N6\", \"function\": {\"arguments\": \"{\\\"location\\\": \\\"Tokyo\\\"}\", \"name\": \"get_current_weather\"}, \"type\": \"function\"},\n",
    "        ],\n",
    "    },\n",
    "    {'role': 'tool', 'name': 'get_current_weather', 'content': [{\"location\": \"San Francisco\", \"temperature\": \"72\", \"unit\": None}, {\"location\": \"Tokyo\", \"temperature\": \"10\", \"unit\": None}]}\n",
    "]"
   ]
  },
  {
   "cell_type": "code",
   "execution_count": 4,
   "metadata": {},
   "outputs": [],
   "source": [
    "token_ids = formatter.encode_dialog_prompt(messages)"
   ]
  },
  {
   "cell_type": "code",
   "execution_count": 5,
   "metadata": {},
   "outputs": [
    {
     "name": "stdout",
     "output_type": "stream",
     "text": [
      "<|begin_of_text|><|start_header_id|>user<|end_header_id|>\n",
      "\n",
      "What's the weather like in San Francisco, and Tokyo?<|eot_id|><|start_header_id|>assistant<|end_header_id|>\n",
      "\n",
      "```json\n",
      "[{\"id\": \"call_m2ZQ4MpYJCfNJfZaNCD6oD7W\", \"function\": {\"arguments\": \"{\\\"location\\\": \\\"San Francisco, CA\\\"}\", \"name\": \"get_current_weather\"}, \"type\": \"function\"}, {\"id\": \"call_aQRCOIZo39gI0LZjtALls3N6\", \"function\": {\"arguments\": \"{\\\"location\\\": \\\"Tokyo\\\"}\", \"name\": \"get_current_weather\"}, \"type\": \"function\"}]\n",
      "```<|eot_id|><|start_header_id|>tool<|end_header_id|>\n",
      "\n",
      "```json\n",
      "[{\"location\": \"San Francisco\", \"temperature\": \"72\", \"unit\": null}, {\"location\": \"Tokyo\", \"temperature\": \"10\", \"unit\": null}]\n",
      "```<|eot_id|><|start_header_id|>assistant<|end_header_id|>\n",
      "\n",
      "\n"
     ]
    }
   ],
   "source": [
    "decoded_text = tokenizer.decode(token_ids)\n",
    "print(decoded_text)"
   ]
  },
  {
   "cell_type": "code",
   "execution_count": 7,
   "metadata": {},
   "outputs": [
    {
     "name": "stdout",
     "output_type": "stream",
     "text": [
      "[{'id': 'call_m2ZQ4MpYJCfNJfZaNCD6oD7W', 'function': {'arguments': '{\"location\": \"San Francisco, CA\"}', 'name': 'get_current_weather'}, 'type': 'function'}, {'id': 'call_aQRCOIZo39gI0LZjtALls3N6', 'function': {'arguments': '{\"location\": \"Tokyo\"}', 'name': 'get_current_weather'}, 'type': 'function'}]\n",
      "[{'location': 'San Francisco', 'temperature': '72', 'unit': None}, {'location': 'Tokyo', 'temperature': '10', 'unit': None}]\n"
     ]
    }
   ],
   "source": [
    "objects = decode_json_strings(decoded_text)\n",
    "\n",
    "for item in objects:\n",
    "    print(item)"
   ]
  }
 ],
 "metadata": {
  "kernelspec": {
   "display_name": "ml",
   "language": "python",
   "name": "python3"
  },
  "language_info": {
   "codemirror_mode": {
    "name": "ipython",
    "version": 3
   },
   "file_extension": ".py",
   "mimetype": "text/x-python",
   "name": "python",
   "nbconvert_exporter": "python",
   "pygments_lexer": "ipython3",
   "version": "3.11.9"
  }
 },
 "nbformat": 4,
 "nbformat_minor": 2
}
